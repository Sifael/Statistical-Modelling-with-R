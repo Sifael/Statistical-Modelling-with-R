{
 "cells": [
  {
   "cell_type": "markdown",
   "metadata": {},
   "source": [
    "### Week 9 - Dimensionality Reduction\n",
    "\n",
    "Welcome to the Week 9 Lab! In this lab, we will explore dimensionality reduction, a topic that you may have encountered in discussions on regularization. Specifically, we will focus on Principal Component Analysis (PCA). Our emphasis will be on the practical implementation of PCA, while the theoretical aspects will be covered in the lecture.\n",
    "\n",
    "### What is PCA?\n",
    "\n",
    "Principal Component Analysis (PCA) is a dimensionality reduction technique that is particularly useful for large datasets. It transforms the original variables into principal components, which retain most of the original information while reducing the number of variables. Datasets can easily contain hundreds or even thousands of dimensions. For instance, when assessing risks related to issuing loans, there are multiple dimensions such as credit score, income, experience, repayments, and more. Additionally, we intuitively understand that some dimensions are more important than others. PCA is a mathematical technique that helps us identify and focus on these principal components.\n",
    "\n",
    "PCA is valuable because it simplifies the complexity of high-dimensional data, making it easier to visualize and analyze. By reducing the dimensionality, PCA helps us identify the underlying structure in the data and often improves the performance of machine learning models.\n",
    "\n",
    "\n"
   ]
  },
  {
   "cell_type": "markdown",
   "metadata": {},
   "source": [
    "<br>\n",
    "\n",
    "### Implementing PCA on USArrest Data\n",
    "\n",
    "For this lab, we will follow through the ISLR dataset to implement Principle Component Analysis. The dataset is available natively through the package and for your convenience, it is also available in our dataset folder. Let's load the dataset and explore it."
   ]
  },
  {
   "cell_type": "code",
   "execution_count": 1,
   "metadata": {
    "vscode": {
     "languageId": "r"
    }
   },
   "outputs": [
    {
     "name": "stderr",
     "output_type": "stream",
     "text": [
      "-- \u001b[1mAttaching packages\u001b[22m -------------------------------------- tidymodels 1.2.0 --\n",
      "\n",
      "\u001b[32mv\u001b[39m \u001b[34mbroom       \u001b[39m 1.0.7     \u001b[32mv\u001b[39m \u001b[34mrecipes     \u001b[39m 1.1.0\n",
      "\u001b[32mv\u001b[39m \u001b[34mdials       \u001b[39m 1.3.0     \u001b[32mv\u001b[39m \u001b[34mrsample     \u001b[39m 1.2.1\n",
      "\u001b[32mv\u001b[39m \u001b[34mdplyr       \u001b[39m 1.1.4     \u001b[32mv\u001b[39m \u001b[34mtibble      \u001b[39m 3.2.1\n",
      "\u001b[32mv\u001b[39m \u001b[34mggplot2     \u001b[39m 3.5.1     \u001b[32mv\u001b[39m \u001b[34mtidyr       \u001b[39m 1.3.1\n",
      "\u001b[32mv\u001b[39m \u001b[34minfer       \u001b[39m 1.0.7     \u001b[32mv\u001b[39m \u001b[34mtune        \u001b[39m 1.2.1\n",
      "\u001b[32mv\u001b[39m \u001b[34mmodeldata   \u001b[39m 1.4.0     \u001b[32mv\u001b[39m \u001b[34mworkflows   \u001b[39m 1.1.4\n",
      "\u001b[32mv\u001b[39m \u001b[34mparsnip     \u001b[39m 1.2.1     \u001b[32mv\u001b[39m \u001b[34mworkflowsets\u001b[39m 1.1.0\n",
      "\u001b[32mv\u001b[39m \u001b[34mpurrr       \u001b[39m 1.0.2     \u001b[32mv\u001b[39m \u001b[34myardstick   \u001b[39m 1.3.1\n",
      "\n",
      "-- \u001b[1mConflicts\u001b[22m ----------------------------------------- tidymodels_conflicts() --\n",
      "\u001b[31mx\u001b[39m \u001b[34mpurrr\u001b[39m::\u001b[32mdiscard()\u001b[39m masks \u001b[34mscales\u001b[39m::discard()\n",
      "\u001b[31mx\u001b[39m \u001b[34mdplyr\u001b[39m::\u001b[32mfilter()\u001b[39m  masks \u001b[34mstats\u001b[39m::filter()\n",
      "\u001b[31mx\u001b[39m \u001b[34mdplyr\u001b[39m::\u001b[32mlag()\u001b[39m     masks \u001b[34mstats\u001b[39m::lag()\n",
      "\u001b[31mx\u001b[39m \u001b[34mrecipes\u001b[39m::\u001b[32mstep()\u001b[39m  masks \u001b[34mstats\u001b[39m::step()\n",
      "\u001b[34m*\u001b[39m Use suppressPackageStartupMessages() to eliminate package startup messages\n",
      "\n",
      "-- \u001b[1mAttaching core tidyverse packages\u001b[22m ------------------------ tidyverse 2.0.0 --\n",
      "\u001b[32mv\u001b[39m \u001b[34mforcats  \u001b[39m 1.0.0     \u001b[32mv\u001b[39m \u001b[34mreadr    \u001b[39m 2.1.5\n",
      "\u001b[32mv\u001b[39m \u001b[34mlubridate\u001b[39m 1.9.3     \u001b[32mv\u001b[39m \u001b[34mstringr  \u001b[39m 1.5.1\n",
      "-- \u001b[1mConflicts\u001b[22m ------------------------------------------ tidyverse_conflicts() --\n",
      "\u001b[31mx\u001b[39m \u001b[34mreadr\u001b[39m::\u001b[32mcol_factor()\u001b[39m masks \u001b[34mscales\u001b[39m::col_factor()\n",
      "\u001b[31mx\u001b[39m \u001b[34mpurrr\u001b[39m::\u001b[32mdiscard()\u001b[39m    masks \u001b[34mscales\u001b[39m::discard()\n",
      "\u001b[31mx\u001b[39m \u001b[34mdplyr\u001b[39m::\u001b[32mfilter()\u001b[39m     masks \u001b[34mstats\u001b[39m::filter()\n",
      "\u001b[31mx\u001b[39m \u001b[34mstringr\u001b[39m::\u001b[32mfixed()\u001b[39m    masks \u001b[34mrecipes\u001b[39m::fixed()\n",
      "\u001b[31mx\u001b[39m \u001b[34mdplyr\u001b[39m::\u001b[32mlag()\u001b[39m        masks \u001b[34mstats\u001b[39m::lag()\n",
      "\u001b[31mx\u001b[39m \u001b[34mreadr\u001b[39m::\u001b[32mspec()\u001b[39m       masks \u001b[34myardstick\u001b[39m::spec()\n",
      "\u001b[36mi\u001b[39m Use the conflicted package (\u001b[3m\u001b[34m<http://conflicted.r-lib.org/>\u001b[39m\u001b[23m) to force all conflicts to become errors\n",
      "Welcome! Want to learn more? See two factoextra-related books at https://goo.gl/ve3WBa\n",
      "\n",
      "\n",
      "Attache Paket: 'proxy'\n",
      "\n",
      "\n",
      "Die folgenden Objekte sind maskiert von 'package:stats':\n",
      "\n",
      "    as.dist, dist\n",
      "\n",
      "\n",
      "Das folgende Objekt ist maskiert 'package:base':\n",
      "\n",
      "    as.matrix\n",
      "\n",
      "\n"
     ]
    }
   ],
   "source": [
    "library(tidymodels)\n",
    "library(tidyverse)\n",
    "library(ISLR2)\n",
    "library(factoextra)\n",
    "library(proxy)\n",
    "library(ggplot2)\n",
    "library(ggthemr)\n",
    "\n",
    "ggthemr(\"fresh\")"
   ]
  },
  {
   "cell_type": "code",
   "execution_count": 2,
   "metadata": {
    "vscode": {
     "languageId": "r"
    }
   },
   "outputs": [
    {
     "data": {
      "text/html": [
       "<table class=\"dataframe\">\n",
       "<caption>A tibble: 10 x 5</caption>\n",
       "<thead>\n",
       "\t<tr><th scope=col>state</th><th scope=col>Murder</th><th scope=col>Assault</th><th scope=col>UrbanPop</th><th scope=col>Rape</th></tr>\n",
       "\t<tr><th scope=col>&lt;chr&gt;</th><th scope=col>&lt;dbl&gt;</th><th scope=col>&lt;int&gt;</th><th scope=col>&lt;int&gt;</th><th scope=col>&lt;dbl&gt;</th></tr>\n",
       "</thead>\n",
       "<tbody>\n",
       "\t<tr><td>Alabama    </td><td>13.2</td><td>236</td><td>58</td><td>21.2</td></tr>\n",
       "\t<tr><td>Alaska     </td><td>10.0</td><td>263</td><td>48</td><td>44.5</td></tr>\n",
       "\t<tr><td>Arizona    </td><td> 8.1</td><td>294</td><td>80</td><td>31.0</td></tr>\n",
       "\t<tr><td>Arkansas   </td><td> 8.8</td><td>190</td><td>50</td><td>19.5</td></tr>\n",
       "\t<tr><td>California </td><td> 9.0</td><td>276</td><td>91</td><td>40.6</td></tr>\n",
       "\t<tr><td>Colorado   </td><td> 7.9</td><td>204</td><td>78</td><td>38.7</td></tr>\n",
       "\t<tr><td>Connecticut</td><td> 3.3</td><td>110</td><td>77</td><td>11.1</td></tr>\n",
       "\t<tr><td>Delaware   </td><td> 5.9</td><td>238</td><td>72</td><td>15.8</td></tr>\n",
       "\t<tr><td>Florida    </td><td>15.4</td><td>335</td><td>80</td><td>31.9</td></tr>\n",
       "\t<tr><td>Georgia    </td><td>17.4</td><td>211</td><td>60</td><td>25.8</td></tr>\n",
       "</tbody>\n",
       "</table>\n"
      ],
      "text/latex": [
       "A tibble: 10 x 5\n",
       "\\begin{tabular}{lllll}\n",
       " state & Murder & Assault & UrbanPop & Rape\\\\\n",
       " <chr> & <dbl> & <int> & <int> & <dbl>\\\\\n",
       "\\hline\n",
       "\t Alabama     & 13.2 & 236 & 58 & 21.2\\\\\n",
       "\t Alaska      & 10.0 & 263 & 48 & 44.5\\\\\n",
       "\t Arizona     &  8.1 & 294 & 80 & 31.0\\\\\n",
       "\t Arkansas    &  8.8 & 190 & 50 & 19.5\\\\\n",
       "\t California  &  9.0 & 276 & 91 & 40.6\\\\\n",
       "\t Colorado    &  7.9 & 204 & 78 & 38.7\\\\\n",
       "\t Connecticut &  3.3 & 110 & 77 & 11.1\\\\\n",
       "\t Delaware    &  5.9 & 238 & 72 & 15.8\\\\\n",
       "\t Florida     & 15.4 & 335 & 80 & 31.9\\\\\n",
       "\t Georgia     & 17.4 & 211 & 60 & 25.8\\\\\n",
       "\\end{tabular}\n"
      ],
      "text/markdown": [
       "\n",
       "A tibble: 10 x 5\n",
       "\n",
       "| state &lt;chr&gt; | Murder &lt;dbl&gt; | Assault &lt;int&gt; | UrbanPop &lt;int&gt; | Rape &lt;dbl&gt; |\n",
       "|---|---|---|---|---|\n",
       "| Alabama     | 13.2 | 236 | 58 | 21.2 |\n",
       "| Alaska      | 10.0 | 263 | 48 | 44.5 |\n",
       "| Arizona     |  8.1 | 294 | 80 | 31.0 |\n",
       "| Arkansas    |  8.8 | 190 | 50 | 19.5 |\n",
       "| California  |  9.0 | 276 | 91 | 40.6 |\n",
       "| Colorado    |  7.9 | 204 | 78 | 38.7 |\n",
       "| Connecticut |  3.3 | 110 | 77 | 11.1 |\n",
       "| Delaware    |  5.9 | 238 | 72 | 15.8 |\n",
       "| Florida     | 15.4 | 335 | 80 | 31.9 |\n",
       "| Georgia     | 17.4 | 211 | 60 | 25.8 |\n",
       "\n"
      ],
      "text/plain": [
       "   state       Murder Assault UrbanPop Rape\n",
       "1  Alabama     13.2   236     58       21.2\n",
       "2  Alaska      10.0   263     48       44.5\n",
       "3  Arizona      8.1   294     80       31.0\n",
       "4  Arkansas     8.8   190     50       19.5\n",
       "5  California   9.0   276     91       40.6\n",
       "6  Colorado     7.9   204     78       38.7\n",
       "7  Connecticut  3.3   110     77       11.1\n",
       "8  Delaware     5.9   238     72       15.8\n",
       "9  Florida     15.4   335     80       31.9\n",
       "10 Georgia     17.4   211     60       25.8"
      ]
     },
     "metadata": {},
     "output_type": "display_data"
    }
   ],
   "source": [
    "us_arrests <- as_tibble( USArrests, rownames = \"state\" )\n",
    "us_arrests %>% slice_head(n = 10)"
   ]
  },
  {
   "cell_type": "markdown",
   "metadata": {
    "vscode": {
     "languageId": "r"
    }
   },
   "source": [
    "In the dataset, we see that we have the number of arrests associated with each of the 50 states in the United States. Now let's briefly examing these dimensions per state.\n",
    "\n",
    "The code below returns the mean for each numerical dimension. "
   ]
  },
  {
   "cell_type": "code",
   "execution_count": 3,
   "metadata": {
    "vscode": {
     "languageId": "r"
    }
   },
   "outputs": [
    {
     "data": {
      "text/html": [
       "<table class=\"dataframe\">\n",
       "<caption>A tibble: 1 x 4</caption>\n",
       "<thead>\n",
       "\t<tr><th scope=col>Murder</th><th scope=col>Assault</th><th scope=col>UrbanPop</th><th scope=col>Rape</th></tr>\n",
       "\t<tr><th scope=col>&lt;dbl&gt;</th><th scope=col>&lt;dbl&gt;</th><th scope=col>&lt;dbl&gt;</th><th scope=col>&lt;dbl&gt;</th></tr>\n",
       "</thead>\n",
       "<tbody>\n",
       "\t<tr><td>7.788</td><td>170.76</td><td>65.54</td><td>21.232</td></tr>\n",
       "</tbody>\n",
       "</table>\n"
      ],
      "text/latex": [
       "A tibble: 1 x 4\n",
       "\\begin{tabular}{llll}\n",
       " Murder & Assault & UrbanPop & Rape\\\\\n",
       " <dbl> & <dbl> & <dbl> & <dbl>\\\\\n",
       "\\hline\n",
       "\t 7.788 & 170.76 & 65.54 & 21.232\\\\\n",
       "\\end{tabular}\n"
      ],
      "text/markdown": [
       "\n",
       "A tibble: 1 x 4\n",
       "\n",
       "| Murder &lt;dbl&gt; | Assault &lt;dbl&gt; | UrbanPop &lt;dbl&gt; | Rape &lt;dbl&gt; |\n",
       "|---|---|---|---|\n",
       "| 7.788 | 170.76 | 65.54 | 21.232 |\n",
       "\n"
      ],
      "text/plain": [
       "  Murder Assault UrbanPop Rape  \n",
       "1 7.788  170.76  65.54    21.232"
      ]
     },
     "metadata": {},
     "output_type": "display_data"
    }
   ],
   "source": [
    "us_arrests %>% \n",
    "    select(-state) %>%\n",
    "    map_dfr(mean)"
   ]
  },
  {
   "cell_type": "markdown",
   "metadata": {
    "vscode": {
     "languageId": "r"
    }
   },
   "source": [
    "Looking closely at the data, we observe that there are vast discrepancies per crime time. For example, rape arrests are more than twice the murder arrests. Similarly, assaults have many more arrests than any other category, often more than three times other arrest. We can also check the variance of the data to see if any of the observations are influenced differently."
   ]
  },
  {
   "cell_type": "code",
   "execution_count": 4,
   "metadata": {
    "vscode": {
     "languageId": "r"
    }
   },
   "outputs": [
    {
     "data": {
      "text/html": [
       "<table class=\"dataframe\">\n",
       "<caption>A tibble: 1 x 4</caption>\n",
       "<thead>\n",
       "\t<tr><th scope=col>Murder</th><th scope=col>Assault</th><th scope=col>UrbanPop</th><th scope=col>Rape</th></tr>\n",
       "\t<tr><th scope=col>&lt;dbl&gt;</th><th scope=col>&lt;dbl&gt;</th><th scope=col>&lt;dbl&gt;</th><th scope=col>&lt;dbl&gt;</th></tr>\n",
       "</thead>\n",
       "<tbody>\n",
       "\t<tr><td>18.97047</td><td>6945.166</td><td>209.5188</td><td>87.72916</td></tr>\n",
       "</tbody>\n",
       "</table>\n"
      ],
      "text/latex": [
       "A tibble: 1 x 4\n",
       "\\begin{tabular}{llll}\n",
       " Murder & Assault & UrbanPop & Rape\\\\\n",
       " <dbl> & <dbl> & <dbl> & <dbl>\\\\\n",
       "\\hline\n",
       "\t 18.97047 & 6945.166 & 209.5188 & 87.72916\\\\\n",
       "\\end{tabular}\n"
      ],
      "text/markdown": [
       "\n",
       "A tibble: 1 x 4\n",
       "\n",
       "| Murder &lt;dbl&gt; | Assault &lt;dbl&gt; | UrbanPop &lt;dbl&gt; | Rape &lt;dbl&gt; |\n",
       "|---|---|---|---|\n",
       "| 18.97047 | 6945.166 | 209.5188 | 87.72916 |\n",
       "\n"
      ],
      "text/plain": [
       "  Murder   Assault  UrbanPop Rape    \n",
       "1 18.97047 6945.166 209.5188 87.72916"
      ]
     },
     "metadata": {},
     "output_type": "display_data"
    }
   ],
   "source": [
    "us_arrests %>% select(-state) %>% map_dfr(var)"
   ]
  },
  {
   "cell_type": "markdown",
   "metadata": {},
   "source": [
    "Similarly, we aslo notice large discrepancies in variances across the states on these crime arrests. Perhaps this is not surprising. \n",
    "\n",
    "These early observations are useful because they inform us of the fact that if we fail to transform the dataset, we are going to bias the principle component towards assaul that contains most of the variance and observations. "
   ]
  },
  {
   "cell_type": "markdown",
   "metadata": {},
   "source": [
    "### Performing PCA with Scaling\n",
    "\n",
    "To perform PCA, we use the function `prcomp`. The function has an inbuilt scale parameter that if set to true, it performs PCA with the data scaled. The scaling parameter forces the variables to have a mean of zero. Let's implement PCA on the dataset. Notice that we remove the state and only focus on the numerical vairables."
   ]
  },
  {
   "cell_type": "code",
   "execution_count": 5,
   "metadata": {
    "vscode": {
     "languageId": "r"
    }
   },
   "outputs": [
    {
     "data": {
      "text/plain": [
       "Standard deviations (1, .., p=4):\n",
       "[1] 1.5748783 0.9948694 0.5971291 0.4164494\n",
       "\n",
       "Rotation (n x k) = (4 x 4):\n",
       "                PC1        PC2        PC3         PC4\n",
       "Murder   -0.5358995 -0.4181809  0.3412327  0.64922780\n",
       "Assault  -0.5831836 -0.1879856  0.2681484 -0.74340748\n",
       "UrbanPop -0.2781909  0.8728062  0.3780158  0.13387773\n",
       "Rape     -0.5434321  0.1673186 -0.8177779  0.08902432"
      ]
     },
     "metadata": {},
     "output_type": "display_data"
    }
   ],
   "source": [
    "pca_output <- us_arrests %>% \n",
    "                select(-state) %>% \n",
    "                prcomp(scale = TRUE)\n",
    "\n",
    "pca_output"
   ]
  },
  {
   "cell_type": "markdown",
   "metadata": {},
   "source": [
    "The principle component matrix tells us that there are four principle components that office dimensional information. In particularly, the components are a linear combination of variables with the coefficient as the correlation value. The coefficients are also referred to as loadins. \n",
    "\n",
    "\n",
    "### Interpreting the Matrix\n",
    "\n",
    "The numbers (called loadings) indicate the direction and magnitude of each variable’s contribution to a principal component. <br>\n",
    "\n",
    "Sign (Positive/Negative): A positive number means that the variable contributes positively to the component (as the variable increases, the component score increases), and a negative number means it contributes negatively (as the variable increases, the component score decreases). \n",
    "\n",
    "\n",
    "Magnitude: The larger the absolute value of the number, the more that variable contributes to that particular principal component.\n",
    "\n",
    "\n",
    "#### Specific  Interpretation\n",
    "\n",
    "PC1:\n",
    "Murder, Assault, and Rape have large negative loadings, indicating they strongly contribute to PC1 and in a similar direction. <br>\n",
    "UrbanPop contributes less to PC1 (smaller magnitude).\n",
    "\n",
    "PC2: UrbanPop has a large positive loading, meaning it strongly influences PC2, while Murder, Assault, and Rape contribute less and in different directions (Murder and Rape contribute negatively; Assault contributes less but still negatively).\n",
    "\n",
    "PC3:\n",
    "Rape has a strong negative contribution to PC3, while Murder and UrbanPop have smaller positive contributions.\n",
    "\n",
    "PC4:\n",
    "Murder and Assault contribute most strongly but in opposite directions (Murder positively and Assault negatively)."
   ]
  },
  {
   "cell_type": "markdown",
   "metadata": {},
   "source": [
    "<br>\n",
    "\n",
    "### Visualizing the PCA Contribution\n",
    "\n",
    "In the note above, we have shown how to read the data. An easier way to perform the same reading is to visualize that data by component, showing which variable contribute in that capacity to which component. Specifically, we add contribution into percentages to better understand the impact."
   ]
  },
  {
   "cell_type": "code",
   "execution_count": 6,
   "metadata": {
    "vscode": {
     "languageId": "r"
    }
   },
   "outputs": [
    {
     "data": {
      "image/png": "[encoded data removed]",
      "text/plain": [
       "plot without title"
      ]
     },
     "metadata": {
      "image/png": {
       "height": 480,
       "width": 600
      }
     },
     "output_type": "display_data"
    }
   ],
   "source": [
    "library(ggthemr)\n",
    "ggthemr(\"flat\")\n",
    "\n",
    "options(repr.plot.width = 10, repr.plot.height = 8)\n",
    "\n",
    "tidy(pca_output, matrix = \"loadings\") %>%\n",
    "    ggplot(aes(value, column)) + \n",
    "    facet_wrap( ~ PC) +\n",
    "    geom_col() +\n",
    "    scale_x_continuous( labels = scales::percent )"
   ]
  },
  {
   "cell_type": "markdown",
   "metadata": {},
   "source": [
    "<br>\n",
    "\n",
    "### Extracting Matrix Score\n",
    "\n",
    "The loadings, also referred to as the rotations of the principal components, describe how the original variables contribute to each component. However, we do not use these loadings directly in place of our variables. Instead, we need to extract the scores matrix, which represents the original data transformed into the principal components. These scores can then be used in place of the individual variables. The code below demonstrates how to extract the scores matrix (the original variable values transformed into the components)."
   ]
  },
  {
   "cell_type": "code",
   "execution_count": 7,
   "metadata": {
    "vscode": {
     "languageId": "r"
    }
   },
   "outputs": [
    {
     "data": {
      "text/html": [
       "<table class=\"dataframe\">\n",
       "<caption>A tibble: 10 x 5</caption>\n",
       "<thead>\n",
       "\t<tr><th scope=col>.rownames</th><th scope=col>.fittedPC1</th><th scope=col>.fittedPC2</th><th scope=col>.fittedPC3</th><th scope=col>.fittedPC4</th></tr>\n",
       "\t<tr><th scope=col>&lt;chr&gt;</th><th scope=col>&lt;dbl&gt;</th><th scope=col>&lt;dbl&gt;</th><th scope=col>&lt;dbl&gt;</th><th scope=col>&lt;dbl&gt;</th></tr>\n",
       "</thead>\n",
       "<tbody>\n",
       "\t<tr><td>1 </td><td>-0.97566045</td><td>-1.12200121</td><td> 0.43980366</td><td> 0.154696581</td></tr>\n",
       "\t<tr><td>2 </td><td>-1.93053788</td><td>-1.06242692</td><td>-2.01950027</td><td>-0.434175454</td></tr>\n",
       "\t<tr><td>3 </td><td>-1.74544285</td><td> 0.73845954</td><td>-0.05423025</td><td>-0.826264240</td></tr>\n",
       "\t<tr><td>4 </td><td> 0.13999894</td><td>-1.10854226</td><td>-0.11342217</td><td>-0.180973554</td></tr>\n",
       "\t<tr><td>5 </td><td>-2.49861285</td><td> 1.52742672</td><td>-0.59254100</td><td>-0.338559240</td></tr>\n",
       "\t<tr><td>6 </td><td>-1.49934074</td><td> 0.97762966</td><td>-1.08400162</td><td> 0.001450164</td></tr>\n",
       "\t<tr><td>7 </td><td> 1.34499236</td><td> 1.07798362</td><td> 0.63679250</td><td>-0.117278736</td></tr>\n",
       "\t<tr><td>8 </td><td>-0.04722981</td><td> 0.32208890</td><td> 0.71141032</td><td>-0.873113315</td></tr>\n",
       "\t<tr><td>9 </td><td>-2.98275967</td><td>-0.03883425</td><td> 0.57103206</td><td>-0.095317042</td></tr>\n",
       "\t<tr><td>10</td><td>-1.62280742</td><td>-1.26608838</td><td> 0.33901818</td><td> 1.065974459</td></tr>\n",
       "</tbody>\n",
       "</table>\n"
      ],
      "text/latex": [
       "A tibble: 10 x 5\n",
       "\\begin{tabular}{lllll}\n",
       " .rownames & .fittedPC1 & .fittedPC2 & .fittedPC3 & .fittedPC4\\\\\n",
       " <chr> & <dbl> & <dbl> & <dbl> & <dbl>\\\\\n",
       "\\hline\n",
       "\t 1  & -0.97566045 & -1.12200121 &  0.43980366 &  0.154696581\\\\\n",
       "\t 2  & -1.93053788 & -1.06242692 & -2.01950027 & -0.434175454\\\\\n",
       "\t 3  & -1.74544285 &  0.73845954 & -0.05423025 & -0.826264240\\\\\n",
       "\t 4  &  0.13999894 & -1.10854226 & -0.11342217 & -0.180973554\\\\\n",
       "\t 5  & -2.49861285 &  1.52742672 & -0.59254100 & -0.338559240\\\\\n",
       "\t 6  & -1.49934074 &  0.97762966 & -1.08400162 &  0.001450164\\\\\n",
       "\t 7  &  1.34499236 &  1.07798362 &  0.63679250 & -0.117278736\\\\\n",
       "\t 8  & -0.04722981 &  0.32208890 &  0.71141032 & -0.873113315\\\\\n",
       "\t 9  & -2.98275967 & -0.03883425 &  0.57103206 & -0.095317042\\\\\n",
       "\t 10 & -1.62280742 & -1.26608838 &  0.33901818 &  1.065974459\\\\\n",
       "\\end{tabular}\n"
      ],
      "text/markdown": [
       "\n",
       "A tibble: 10 x 5\n",
       "\n",
       "| .rownames &lt;chr&gt; | .fittedPC1 &lt;dbl&gt; | .fittedPC2 &lt;dbl&gt; | .fittedPC3 &lt;dbl&gt; | .fittedPC4 &lt;dbl&gt; |\n",
       "|---|---|---|---|---|\n",
       "| 1  | -0.97566045 | -1.12200121 |  0.43980366 |  0.154696581 |\n",
       "| 2  | -1.93053788 | -1.06242692 | -2.01950027 | -0.434175454 |\n",
       "| 3  | -1.74544285 |  0.73845954 | -0.05423025 | -0.826264240 |\n",
       "| 4  |  0.13999894 | -1.10854226 | -0.11342217 | -0.180973554 |\n",
       "| 5  | -2.49861285 |  1.52742672 | -0.59254100 | -0.338559240 |\n",
       "| 6  | -1.49934074 |  0.97762966 | -1.08400162 |  0.001450164 |\n",
       "| 7  |  1.34499236 |  1.07798362 |  0.63679250 | -0.117278736 |\n",
       "| 8  | -0.04722981 |  0.32208890 |  0.71141032 | -0.873113315 |\n",
       "| 9  | -2.98275967 | -0.03883425 |  0.57103206 | -0.095317042 |\n",
       "| 10 | -1.62280742 | -1.26608838 |  0.33901818 |  1.065974459 |\n",
       "\n"
      ],
      "text/plain": [
       "   .rownames .fittedPC1  .fittedPC2  .fittedPC3  .fittedPC4  \n",
       "1  1         -0.97566045 -1.12200121  0.43980366  0.154696581\n",
       "2  2         -1.93053788 -1.06242692 -2.01950027 -0.434175454\n",
       "3  3         -1.74544285  0.73845954 -0.05423025 -0.826264240\n",
       "4  4          0.13999894 -1.10854226 -0.11342217 -0.180973554\n",
       "5  5         -2.49861285  1.52742672 -0.59254100 -0.338559240\n",
       "6  6         -1.49934074  0.97762966 -1.08400162  0.001450164\n",
       "7  7          1.34499236  1.07798362  0.63679250 -0.117278736\n",
       "8  8         -0.04722981  0.32208890  0.71141032 -0.873113315\n",
       "9  9         -2.98275967 -0.03883425  0.57103206 -0.095317042\n",
       "10 10        -1.62280742 -1.26608838  0.33901818  1.065974459"
      ]
     },
     "metadata": {},
     "output_type": "display_data"
    }
   ],
   "source": [
    "augment(pca_output, new_data = us_arrests) %>% \n",
    "    slice_head(n = 10)"
   ]
  },
  {
   "cell_type": "markdown",
   "metadata": {
    "vscode": {
     "languageId": "r"
    }
   },
   "source": [
    " <br>\n",
    "\n",
    "We can now use the above components in the modelling process.\n",
    "\n",
    "### PCA as a Pre-Processing Step\n",
    "\n",
    "We’ve explored how to implement PCA on a dataset to extract components from the original variables. PCA is often used as a pre-processing step to reduce dimensionality and simplify the data before modeling. When using PCA as a pre-processing step, it's recommended to leverage the `recipes` framework, as it integrates seamlessly with the tidymodels ecosystem. \n",
    "\n",
    "The example below demonstrates how to implement PCA using `recipe`."
   ]
  },
  {
   "cell_type": "code",
   "execution_count": 8,
   "metadata": {
    "vscode": {
     "languageId": "r"
    }
   },
   "outputs": [
    {
     "data": {
      "text/html": [
       "<table class=\"dataframe\">\n",
       "<caption>A tibble: 10 x 5</caption>\n",
       "<thead>\n",
       "\t<tr><th scope=col>state</th><th scope=col>PC1</th><th scope=col>PC2</th><th scope=col>PC3</th><th scope=col>PC4</th></tr>\n",
       "\t<tr><th scope=col>&lt;fct&gt;</th><th scope=col>&lt;dbl&gt;</th><th scope=col>&lt;dbl&gt;</th><th scope=col>&lt;dbl&gt;</th><th scope=col>&lt;dbl&gt;</th></tr>\n",
       "</thead>\n",
       "<tbody>\n",
       "\t<tr><td>Alabama    </td><td>-0.97566045</td><td>-1.12200121</td><td> 0.43980366</td><td> 0.154696581</td></tr>\n",
       "\t<tr><td>Alaska     </td><td>-1.93053788</td><td>-1.06242692</td><td>-2.01950027</td><td>-0.434175454</td></tr>\n",
       "\t<tr><td>Arizona    </td><td>-1.74544285</td><td> 0.73845954</td><td>-0.05423025</td><td>-0.826264240</td></tr>\n",
       "\t<tr><td>Arkansas   </td><td> 0.13999894</td><td>-1.10854226</td><td>-0.11342217</td><td>-0.180973554</td></tr>\n",
       "\t<tr><td>California </td><td>-2.49861285</td><td> 1.52742672</td><td>-0.59254100</td><td>-0.338559240</td></tr>\n",
       "\t<tr><td>Colorado   </td><td>-1.49934074</td><td> 0.97762966</td><td>-1.08400162</td><td> 0.001450164</td></tr>\n",
       "\t<tr><td>Connecticut</td><td> 1.34499236</td><td> 1.07798362</td><td> 0.63679250</td><td>-0.117278736</td></tr>\n",
       "\t<tr><td>Delaware   </td><td>-0.04722981</td><td> 0.32208890</td><td> 0.71141032</td><td>-0.873113315</td></tr>\n",
       "\t<tr><td>Florida    </td><td>-2.98275967</td><td>-0.03883425</td><td> 0.57103206</td><td>-0.095317042</td></tr>\n",
       "\t<tr><td>Georgia    </td><td>-1.62280742</td><td>-1.26608838</td><td> 0.33901818</td><td> 1.065974459</td></tr>\n",
       "</tbody>\n",
       "</table>\n"
      ],
      "text/latex": [
       "A tibble: 10 x 5\n",
       "\\begin{tabular}{lllll}\n",
       " state & PC1 & PC2 & PC3 & PC4\\\\\n",
       " <fct> & <dbl> & <dbl> & <dbl> & <dbl>\\\\\n",
       "\\hline\n",
       "\t Alabama     & -0.97566045 & -1.12200121 &  0.43980366 &  0.154696581\\\\\n",
       "\t Alaska      & -1.93053788 & -1.06242692 & -2.01950027 & -0.434175454\\\\\n",
       "\t Arizona     & -1.74544285 &  0.73845954 & -0.05423025 & -0.826264240\\\\\n",
       "\t Arkansas    &  0.13999894 & -1.10854226 & -0.11342217 & -0.180973554\\\\\n",
       "\t California  & -2.49861285 &  1.52742672 & -0.59254100 & -0.338559240\\\\\n",
       "\t Colorado    & -1.49934074 &  0.97762966 & -1.08400162 &  0.001450164\\\\\n",
       "\t Connecticut &  1.34499236 &  1.07798362 &  0.63679250 & -0.117278736\\\\\n",
       "\t Delaware    & -0.04722981 &  0.32208890 &  0.71141032 & -0.873113315\\\\\n",
       "\t Florida     & -2.98275967 & -0.03883425 &  0.57103206 & -0.095317042\\\\\n",
       "\t Georgia     & -1.62280742 & -1.26608838 &  0.33901818 &  1.065974459\\\\\n",
       "\\end{tabular}\n"
      ],
      "text/markdown": [
       "\n",
       "A tibble: 10 x 5\n",
       "\n",
       "| state &lt;fct&gt; | PC1 &lt;dbl&gt; | PC2 &lt;dbl&gt; | PC3 &lt;dbl&gt; | PC4 &lt;dbl&gt; |\n",
       "|---|---|---|---|---|\n",
       "| Alabama     | -0.97566045 | -1.12200121 |  0.43980366 |  0.154696581 |\n",
       "| Alaska      | -1.93053788 | -1.06242692 | -2.01950027 | -0.434175454 |\n",
       "| Arizona     | -1.74544285 |  0.73845954 | -0.05423025 | -0.826264240 |\n",
       "| Arkansas    |  0.13999894 | -1.10854226 | -0.11342217 | -0.180973554 |\n",
       "| California  | -2.49861285 |  1.52742672 | -0.59254100 | -0.338559240 |\n",
       "| Colorado    | -1.49934074 |  0.97762966 | -1.08400162 |  0.001450164 |\n",
       "| Connecticut |  1.34499236 |  1.07798362 |  0.63679250 | -0.117278736 |\n",
       "| Delaware    | -0.04722981 |  0.32208890 |  0.71141032 | -0.873113315 |\n",
       "| Florida     | -2.98275967 | -0.03883425 |  0.57103206 | -0.095317042 |\n",
       "| Georgia     | -1.62280742 | -1.26608838 |  0.33901818 |  1.065974459 |\n",
       "\n"
      ],
      "text/plain": [
       "   state       PC1         PC2         PC3         PC4         \n",
       "1  Alabama     -0.97566045 -1.12200121  0.43980366  0.154696581\n",
       "2  Alaska      -1.93053788 -1.06242692 -2.01950027 -0.434175454\n",
       "3  Arizona     -1.74544285  0.73845954 -0.05423025 -0.826264240\n",
       "4  Arkansas     0.13999894 -1.10854226 -0.11342217 -0.180973554\n",
       "5  California  -2.49861285  1.52742672 -0.59254100 -0.338559240\n",
       "6  Colorado    -1.49934074  0.97762966 -1.08400162  0.001450164\n",
       "7  Connecticut  1.34499236  1.07798362  0.63679250 -0.117278736\n",
       "8  Delaware    -0.04722981  0.32208890  0.71141032 -0.873113315\n",
       "9  Florida     -2.98275967 -0.03883425  0.57103206 -0.095317042\n",
       "10 Georgia     -1.62280742 -1.26608838  0.33901818  1.065974459"
      ]
     },
     "metadata": {},
     "output_type": "display_data"
    }
   ],
   "source": [
    "pca_recipe <- recipe( formula = ~., data = us_arrests ) %>% # use all the columns in the dataset\n",
    "                step_normalize(all_numeric()) %>%           # implement normalizaiton of the data\n",
    "                step_pca( all_numeric(), id = 'pca') %>%    # perform pca \n",
    "                prep()\n",
    "\n",
    "pca_recipe %>%\n",
    "    bake(new_data =  NULL) %>%    # implements pca on the us_arrests original data \n",
    "    slice_head(n = 10)"
   ]
  },
  {
   "cell_type": "markdown",
   "metadata": {},
   "source": [
    "We can also apply this to new data. For example, lets choose a small subset of us_arrests and apply it."
   ]
  },
  {
   "cell_type": "code",
   "execution_count": 9,
   "metadata": {
    "vscode": {
     "languageId": "r"
    }
   },
   "outputs": [
    {
     "data": {
      "text/html": [
       "<table class=\"dataframe\">\n",
       "<caption>A tibble: 6 x 5</caption>\n",
       "<thead>\n",
       "\t<tr><th scope=col>state</th><th scope=col>PC1</th><th scope=col>PC2</th><th scope=col>PC3</th><th scope=col>PC4</th></tr>\n",
       "\t<tr><th scope=col>&lt;fct&gt;</th><th scope=col>&lt;dbl&gt;</th><th scope=col>&lt;dbl&gt;</th><th scope=col>&lt;dbl&gt;</th><th scope=col>&lt;dbl&gt;</th></tr>\n",
       "</thead>\n",
       "<tbody>\n",
       "\t<tr><td>New York      </td><td>-1.66566662</td><td> 0.8149107</td><td> 0.63661186</td><td>-0.01334884</td></tr>\n",
       "\t<tr><td>North Carolina</td><td>-1.11208808</td><td>-2.2056108</td><td> 0.85489245</td><td>-0.94478965</td></tr>\n",
       "\t<tr><td>North Dakota  </td><td> 2.96215223</td><td>-0.5930974</td><td>-0.29824930</td><td>-0.25143463</td></tr>\n",
       "\t<tr><td>Ohio          </td><td> 0.22369436</td><td> 0.7347784</td><td> 0.03082616</td><td> 0.46915282</td></tr>\n",
       "\t<tr><td>Oklahoma      </td><td> 0.30864928</td><td> 0.2849611</td><td> 0.01515592</td><td> 0.01022848</td></tr>\n",
       "\t<tr><td>Oregon        </td><td>-0.05852787</td><td> 0.5359700</td><td>-0.93038718</td><td>-0.23539087</td></tr>\n",
       "</tbody>\n",
       "</table>\n"
      ],
      "text/latex": [
       "A tibble: 6 x 5\n",
       "\\begin{tabular}{lllll}\n",
       " state & PC1 & PC2 & PC3 & PC4\\\\\n",
       " <fct> & <dbl> & <dbl> & <dbl> & <dbl>\\\\\n",
       "\\hline\n",
       "\t New York       & -1.66566662 &  0.8149107 &  0.63661186 & -0.01334884\\\\\n",
       "\t North Carolina & -1.11208808 & -2.2056108 &  0.85489245 & -0.94478965\\\\\n",
       "\t North Dakota   &  2.96215223 & -0.5930974 & -0.29824930 & -0.25143463\\\\\n",
       "\t Ohio           &  0.22369436 &  0.7347784 &  0.03082616 &  0.46915282\\\\\n",
       "\t Oklahoma       &  0.30864928 &  0.2849611 &  0.01515592 &  0.01022848\\\\\n",
       "\t Oregon         & -0.05852787 &  0.5359700 & -0.93038718 & -0.23539087\\\\\n",
       "\\end{tabular}\n"
      ],
      "text/markdown": [
       "\n",
       "A tibble: 6 x 5\n",
       "\n",
       "| state &lt;fct&gt; | PC1 &lt;dbl&gt; | PC2 &lt;dbl&gt; | PC3 &lt;dbl&gt; | PC4 &lt;dbl&gt; |\n",
       "|---|---|---|---|---|\n",
       "| New York       | -1.66566662 |  0.8149107 |  0.63661186 | -0.01334884 |\n",
       "| North Carolina | -1.11208808 | -2.2056108 |  0.85489245 | -0.94478965 |\n",
       "| North Dakota   |  2.96215223 | -0.5930974 | -0.29824930 | -0.25143463 |\n",
       "| Ohio           |  0.22369436 |  0.7347784 |  0.03082616 |  0.46915282 |\n",
       "| Oklahoma       |  0.30864928 |  0.2849611 |  0.01515592 |  0.01022848 |\n",
       "| Oregon         | -0.05852787 |  0.5359700 | -0.93038718 | -0.23539087 |\n",
       "\n"
      ],
      "text/plain": [
       "  state          PC1         PC2        PC3         PC4        \n",
       "1 New York       -1.66566662  0.8149107  0.63661186 -0.01334884\n",
       "2 North Carolina -1.11208808 -2.2056108  0.85489245 -0.94478965\n",
       "3 North Dakota    2.96215223 -0.5930974 -0.29824930 -0.25143463\n",
       "4 Ohio            0.22369436  0.7347784  0.03082616  0.46915282\n",
       "5 Oklahoma        0.30864928  0.2849611  0.01515592  0.01022848\n",
       "6 Oregon         -0.05852787  0.5359700 -0.93038718 -0.23539087"
      ]
     },
     "metadata": {},
     "output_type": "display_data"
    }
   ],
   "source": [
    "pca_recipe %>%\n",
    "    bake(new_data =  us_arrests[32:37, ]) %>%    # implements pca on the us_arrests original data \n",
    "    slice_head(n = 10)"
   ]
  },
  {
   "cell_type": "markdown",
   "metadata": {},
   "source": [
    "We can also retrive the information as we did with the `prcomp()` function using the command below."
   ]
  },
  {
   "cell_type": "code",
   "execution_count": 10,
   "metadata": {
    "vscode": {
     "languageId": "r"
    }
   },
   "outputs": [
    {
     "data": {
      "text/html": [
       "<table class=\"dataframe\">\n",
       "<caption>A tibble: 16 x 4</caption>\n",
       "<thead>\n",
       "\t<tr><th scope=col>terms</th><th scope=col>value</th><th scope=col>component</th><th scope=col>id</th></tr>\n",
       "\t<tr><th scope=col>&lt;chr&gt;</th><th scope=col>&lt;dbl&gt;</th><th scope=col>&lt;chr&gt;</th><th scope=col>&lt;chr&gt;</th></tr>\n",
       "</thead>\n",
       "<tbody>\n",
       "\t<tr><td>Murder  </td><td>-0.53589947</td><td>PC1</td><td>pca</td></tr>\n",
       "\t<tr><td>Assault </td><td>-0.58318363</td><td>PC1</td><td>pca</td></tr>\n",
       "\t<tr><td>UrbanPop</td><td>-0.27819087</td><td>PC1</td><td>pca</td></tr>\n",
       "\t<tr><td>Rape    </td><td>-0.54343209</td><td>PC1</td><td>pca</td></tr>\n",
       "\t<tr><td>Murder  </td><td>-0.41818087</td><td>PC2</td><td>pca</td></tr>\n",
       "\t<tr><td>Assault </td><td>-0.18798560</td><td>PC2</td><td>pca</td></tr>\n",
       "\t<tr><td>UrbanPop</td><td> 0.87280619</td><td>PC2</td><td>pca</td></tr>\n",
       "\t<tr><td>Rape    </td><td> 0.16731864</td><td>PC2</td><td>pca</td></tr>\n",
       "\t<tr><td>Murder  </td><td> 0.34123273</td><td>PC3</td><td>pca</td></tr>\n",
       "\t<tr><td>Assault </td><td> 0.26814843</td><td>PC3</td><td>pca</td></tr>\n",
       "\t<tr><td>UrbanPop</td><td> 0.37801579</td><td>PC3</td><td>pca</td></tr>\n",
       "\t<tr><td>Rape    </td><td>-0.81777791</td><td>PC3</td><td>pca</td></tr>\n",
       "\t<tr><td>Murder  </td><td> 0.64922780</td><td>PC4</td><td>pca</td></tr>\n",
       "\t<tr><td>Assault </td><td>-0.74340748</td><td>PC4</td><td>pca</td></tr>\n",
       "\t<tr><td>UrbanPop</td><td> 0.13387773</td><td>PC4</td><td>pca</td></tr>\n",
       "\t<tr><td>Rape    </td><td> 0.08902432</td><td>PC4</td><td>pca</td></tr>\n",
       "</tbody>\n",
       "</table>\n"
      ],
      "text/latex": [
       "A tibble: 16 x 4\n",
       "\\begin{tabular}{llll}\n",
       " terms & value & component & id\\\\\n",
       " <chr> & <dbl> & <chr> & <chr>\\\\\n",
       "\\hline\n",
       "\t Murder   & -0.53589947 & PC1 & pca\\\\\n",
       "\t Assault  & -0.58318363 & PC1 & pca\\\\\n",
       "\t UrbanPop & -0.27819087 & PC1 & pca\\\\\n",
       "\t Rape     & -0.54343209 & PC1 & pca\\\\\n",
       "\t Murder   & -0.41818087 & PC2 & pca\\\\\n",
       "\t Assault  & -0.18798560 & PC2 & pca\\\\\n",
       "\t UrbanPop &  0.87280619 & PC2 & pca\\\\\n",
       "\t Rape     &  0.16731864 & PC2 & pca\\\\\n",
       "\t Murder   &  0.34123273 & PC3 & pca\\\\\n",
       "\t Assault  &  0.26814843 & PC3 & pca\\\\\n",
       "\t UrbanPop &  0.37801579 & PC3 & pca\\\\\n",
       "\t Rape     & -0.81777791 & PC3 & pca\\\\\n",
       "\t Murder   &  0.64922780 & PC4 & pca\\\\\n",
       "\t Assault  & -0.74340748 & PC4 & pca\\\\\n",
       "\t UrbanPop &  0.13387773 & PC4 & pca\\\\\n",
       "\t Rape     &  0.08902432 & PC4 & pca\\\\\n",
       "\\end{tabular}\n"
      ],
      "text/markdown": [
       "\n",
       "A tibble: 16 x 4\n",
       "\n",
       "| terms &lt;chr&gt; | value &lt;dbl&gt; | component &lt;chr&gt; | id &lt;chr&gt; |\n",
       "|---|---|---|---|\n",
       "| Murder   | -0.53589947 | PC1 | pca |\n",
       "| Assault  | -0.58318363 | PC1 | pca |\n",
       "| UrbanPop | -0.27819087 | PC1 | pca |\n",
       "| Rape     | -0.54343209 | PC1 | pca |\n",
       "| Murder   | -0.41818087 | PC2 | pca |\n",
       "| Assault  | -0.18798560 | PC2 | pca |\n",
       "| UrbanPop |  0.87280619 | PC2 | pca |\n",
       "| Rape     |  0.16731864 | PC2 | pca |\n",
       "| Murder   |  0.34123273 | PC3 | pca |\n",
       "| Assault  |  0.26814843 | PC3 | pca |\n",
       "| UrbanPop |  0.37801579 | PC3 | pca |\n",
       "| Rape     | -0.81777791 | PC3 | pca |\n",
       "| Murder   |  0.64922780 | PC4 | pca |\n",
       "| Assault  | -0.74340748 | PC4 | pca |\n",
       "| UrbanPop |  0.13387773 | PC4 | pca |\n",
       "| Rape     |  0.08902432 | PC4 | pca |\n",
       "\n"
      ],
      "text/plain": [
       "   terms    value       component id \n",
       "1  Murder   -0.53589947 PC1       pca\n",
       "2  Assault  -0.58318363 PC1       pca\n",
       "3  UrbanPop -0.27819087 PC1       pca\n",
       "4  Rape     -0.54343209 PC1       pca\n",
       "5  Murder   -0.41818087 PC2       pca\n",
       "6  Assault  -0.18798560 PC2       pca\n",
       "7  UrbanPop  0.87280619 PC2       pca\n",
       "8  Rape      0.16731864 PC2       pca\n",
       "9  Murder    0.34123273 PC3       pca\n",
       "10 Assault   0.26814843 PC3       pca\n",
       "11 UrbanPop  0.37801579 PC3       pca\n",
       "12 Rape     -0.81777791 PC3       pca\n",
       "13 Murder    0.64922780 PC4       pca\n",
       "14 Assault  -0.74340748 PC4       pca\n",
       "15 UrbanPop  0.13387773 PC4       pca\n",
       "16 Rape      0.08902432 PC4       pca"
      ]
     },
     "metadata": {},
     "output_type": "display_data"
    }
   ],
   "source": [
    "tidy(pca_recipe, id = \"pca\", type = \"coef\")"
   ]
  },
  {
   "cell_type": "markdown",
   "metadata": {},
   "source": [
    "### Specifying Thresholds for Components\n",
    "\n",
    "As we have seen, the loadings are returned and it is up to use to intepret them. Often times, we may wish to restrict the threshold of the component's linear correlation. In this instance, we can set a threshold. In the example below, we repeat the above process and set up a threshold of .7."
   ]
  },
  {
   "cell_type": "code",
   "execution_count": 11,
   "metadata": {
    "vscode": {
     "languageId": "r"
    }
   },
   "outputs": [
    {
     "data": {
      "text/html": [
       "<table class=\"dataframe\">\n",
       "<caption>A tibble: 20 x 3</caption>\n",
       "<thead>\n",
       "\t<tr><th scope=col>state</th><th scope=col>PC1</th><th scope=col>PC2</th></tr>\n",
       "\t<tr><th scope=col>&lt;fct&gt;</th><th scope=col>&lt;dbl&gt;</th><th scope=col>&lt;dbl&gt;</th></tr>\n",
       "</thead>\n",
       "<tbody>\n",
       "\t<tr><td>Alabama    </td><td>-0.97566045</td><td>-1.12200121</td></tr>\n",
       "\t<tr><td>Alaska     </td><td>-1.93053788</td><td>-1.06242692</td></tr>\n",
       "\t<tr><td>Arizona    </td><td>-1.74544285</td><td> 0.73845954</td></tr>\n",
       "\t<tr><td>Arkansas   </td><td> 0.13999894</td><td>-1.10854226</td></tr>\n",
       "\t<tr><td>California </td><td>-2.49861285</td><td> 1.52742672</td></tr>\n",
       "\t<tr><td>Colorado   </td><td>-1.49934074</td><td> 0.97762966</td></tr>\n",
       "\t<tr><td>Connecticut</td><td> 1.34499236</td><td> 1.07798362</td></tr>\n",
       "\t<tr><td>Delaware   </td><td>-0.04722981</td><td> 0.32208890</td></tr>\n",
       "\t<tr><td>Florida    </td><td>-2.98275967</td><td>-0.03883425</td></tr>\n",
       "\t<tr><td>Georgia    </td><td>-1.62280742</td><td>-1.26608838</td></tr>\n",
       "\t<tr><td>Hawaii     </td><td> 0.90348448</td><td> 1.55467609</td></tr>\n",
       "\t<tr><td>Idaho      </td><td> 1.62331903</td><td>-0.20885253</td></tr>\n",
       "\t<tr><td>Illinois   </td><td>-1.36505197</td><td> 0.67498834</td></tr>\n",
       "\t<tr><td>Indiana    </td><td> 0.50038122</td><td> 0.15003926</td></tr>\n",
       "\t<tr><td>Iowa       </td><td> 2.23099579</td><td> 0.10300828</td></tr>\n",
       "\t<tr><td>Kansas     </td><td> 0.78887206</td><td> 0.26744941</td></tr>\n",
       "\t<tr><td>Kentucky   </td><td> 0.74331256</td><td>-0.94880748</td></tr>\n",
       "\t<tr><td>Louisiana  </td><td>-1.54909076</td><td>-0.86230011</td></tr>\n",
       "\t<tr><td>Maine      </td><td> 2.37274014</td><td>-0.37260865</td></tr>\n",
       "\t<tr><td>Maryland   </td><td>-1.74564663</td><td>-0.42335704</td></tr>\n",
       "</tbody>\n",
       "</table>\n"
      ],
      "text/latex": [
       "A tibble: 20 x 3\n",
       "\\begin{tabular}{lll}\n",
       " state & PC1 & PC2\\\\\n",
       " <fct> & <dbl> & <dbl>\\\\\n",
       "\\hline\n",
       "\t Alabama     & -0.97566045 & -1.12200121\\\\\n",
       "\t Alaska      & -1.93053788 & -1.06242692\\\\\n",
       "\t Arizona     & -1.74544285 &  0.73845954\\\\\n",
       "\t Arkansas    &  0.13999894 & -1.10854226\\\\\n",
       "\t California  & -2.49861285 &  1.52742672\\\\\n",
       "\t Colorado    & -1.49934074 &  0.97762966\\\\\n",
       "\t Connecticut &  1.34499236 &  1.07798362\\\\\n",
       "\t Delaware    & -0.04722981 &  0.32208890\\\\\n",
       "\t Florida     & -2.98275967 & -0.03883425\\\\\n",
       "\t Georgia     & -1.62280742 & -1.26608838\\\\\n",
       "\t Hawaii      &  0.90348448 &  1.55467609\\\\\n",
       "\t Idaho       &  1.62331903 & -0.20885253\\\\\n",
       "\t Illinois    & -1.36505197 &  0.67498834\\\\\n",
       "\t Indiana     &  0.50038122 &  0.15003926\\\\\n",
       "\t Iowa        &  2.23099579 &  0.10300828\\\\\n",
       "\t Kansas      &  0.78887206 &  0.26744941\\\\\n",
       "\t Kentucky    &  0.74331256 & -0.94880748\\\\\n",
       "\t Louisiana   & -1.54909076 & -0.86230011\\\\\n",
       "\t Maine       &  2.37274014 & -0.37260865\\\\\n",
       "\t Maryland    & -1.74564663 & -0.42335704\\\\\n",
       "\\end{tabular}\n"
      ],
      "text/markdown": [
       "\n",
       "A tibble: 20 x 3\n",
       "\n",
       "| state &lt;fct&gt; | PC1 &lt;dbl&gt; | PC2 &lt;dbl&gt; |\n",
       "|---|---|---|\n",
       "| Alabama     | -0.97566045 | -1.12200121 |\n",
       "| Alaska      | -1.93053788 | -1.06242692 |\n",
       "| Arizona     | -1.74544285 |  0.73845954 |\n",
       "| Arkansas    |  0.13999894 | -1.10854226 |\n",
       "| California  | -2.49861285 |  1.52742672 |\n",
       "| Colorado    | -1.49934074 |  0.97762966 |\n",
       "| Connecticut |  1.34499236 |  1.07798362 |\n",
       "| Delaware    | -0.04722981 |  0.32208890 |\n",
       "| Florida     | -2.98275967 | -0.03883425 |\n",
       "| Georgia     | -1.62280742 | -1.26608838 |\n",
       "| Hawaii      |  0.90348448 |  1.55467609 |\n",
       "| Idaho       |  1.62331903 | -0.20885253 |\n",
       "| Illinois    | -1.36505197 |  0.67498834 |\n",
       "| Indiana     |  0.50038122 |  0.15003926 |\n",
       "| Iowa        |  2.23099579 |  0.10300828 |\n",
       "| Kansas      |  0.78887206 |  0.26744941 |\n",
       "| Kentucky    |  0.74331256 | -0.94880748 |\n",
       "| Louisiana   | -1.54909076 | -0.86230011 |\n",
       "| Maine       |  2.37274014 | -0.37260865 |\n",
       "| Maryland    | -1.74564663 | -0.42335704 |\n",
       "\n"
      ],
      "text/plain": [
       "   state       PC1         PC2        \n",
       "1  Alabama     -0.97566045 -1.12200121\n",
       "2  Alaska      -1.93053788 -1.06242692\n",
       "3  Arizona     -1.74544285  0.73845954\n",
       "4  Arkansas     0.13999894 -1.10854226\n",
       "5  California  -2.49861285  1.52742672\n",
       "6  Colorado    -1.49934074  0.97762966\n",
       "7  Connecticut  1.34499236  1.07798362\n",
       "8  Delaware    -0.04722981  0.32208890\n",
       "9  Florida     -2.98275967 -0.03883425\n",
       "10 Georgia     -1.62280742 -1.26608838\n",
       "11 Hawaii       0.90348448  1.55467609\n",
       "12 Idaho        1.62331903 -0.20885253\n",
       "13 Illinois    -1.36505197  0.67498834\n",
       "14 Indiana      0.50038122  0.15003926\n",
       "15 Iowa         2.23099579  0.10300828\n",
       "16 Kansas       0.78887206  0.26744941\n",
       "17 Kentucky     0.74331256 -0.94880748\n",
       "18 Louisiana   -1.54909076 -0.86230011\n",
       "19 Maine        2.37274014 -0.37260865\n",
       "20 Maryland    -1.74564663 -0.42335704"
      ]
     },
     "metadata": {},
     "output_type": "display_data"
    }
   ],
   "source": [
    "recipe( formula = ~., data = us_arrests ) %>%                               # use all the columns in the dataset\n",
    "                step_normalize(all_numeric()) %>%                           # implement normalizaiton of the data\n",
    "                step_pca( all_numeric(), id = 'pca', threshold = .7) %>%    # perform pca \n",
    "                prep() %>% \n",
    "                bake( new_data = NULL ) %>%\n",
    "                slice_head(n = 20)\n"
   ]
  },
  {
   "cell_type": "markdown",
   "metadata": {},
   "source": [
    "As you can see now, we have two components instead of 4 as was the previous case.\n",
    "\n",
    "This concludes our lab on Principle Component Analysis."
   ]
  },
  {
   "cell_type": "markdown",
   "metadata": {},
   "source": [
    "Referrences:\n",
    "\n",
    "1. ISLR Chapter 12\n",
    "2. ISLR Tidyverse: https://emilhvitfeldt.github.io/ISLR-tidymodels-labs/12-unsupervised-learning.html"
   ]
  }
 ],
 "metadata": {
  "kernelspec": {
   "display_name": "R",
   "language": "R",
   "name": "ir"
  },
  "language_info": {
   "codemirror_mode": "r",
   "file_extension": ".r",
   "mimetype": "text/x-r-source",
   "name": "R",
   "pygments_lexer": "r",
   "version": "4.4.1"
  }
 },
 "nbformat": 4,
 "nbformat_minor": 2
}
